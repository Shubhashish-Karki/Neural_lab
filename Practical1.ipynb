{
 "cells": [
  {
   "cell_type": "markdown",
   "id": "51f1f4cd-2db8-49ba-979e-f766e6d059f8",
   "metadata": {},
   "source": [
    "#sigmoid function\n",
    "def sigmoid(x):\n",
    "    return 1/(1+np.exp(-x))"
   ]
  },
  {
   "cell_type": "markdown",
   "id": "dadf3c8a-0913-462b-af28-44834af6f53d",
   "metadata": {},
   "source": [
    "#tanh function\n",
    "def tanh(x):\n",
    "    numerator= 1-np.exp(-2*x)\n",
    "    denominator= 1+np.exp(-2*x)\n",
    "    return numerator/denominator"
   ]
  },
  {
   "cell_type": "markdown",
   "id": "0323c0cd-f0bc-4f79-9ce5-cb6e19c36c0c",
   "metadata": {},
   "source": [
    "#Rectified Linear Unit Fucntion\n",
    "def ReLU(x):\n",
    "    if x<0:\n",
    "        return 0\n",
    "    else:\n",
    "        return x"
   ]
  },
  {
   "cell_type": "markdown",
   "id": "6a8d24c1-b04c-4c21-bfbd-4f66105896af",
   "metadata": {},
   "source": [
    "#leaky ReLU function\n",
    "def leakyReLU(x,alpha=0.01):\n",
    "    if x<0:\n",
    "        return (alpha*x)\n",
    "    else:\n",
    "        return x"
   ]
  },
  {
   "cell_type": "markdown",
   "id": "75307ce1-0a8a-421c-a10b-4f6bbe4e0f0b",
   "metadata": {},
   "source": [
    "#Exponential linear unit function\n",
    "def ELU(x,alpha=0.01):\n",
    "    if x<0:\n",
    "        return (alpha*(np.exp(x)-1))\n",
    "    else:\n",
    "        return x"
   ]
  },
  {
   "cell_type": "markdown",
   "id": "ef477c18-c7c6-4bdd-80f7-7df38ca227a7",
   "metadata": {},
   "source": [
    "#swish function\n",
    "def swish(x,beta):\n",
    "    return 2*x*sigmoid(beta*x)"
   ]
  },
  {
   "cell_type": "markdown",
   "id": "a95cd7fe-5872-4654-9f89-9c31b25a358c",
   "metadata": {},
   "source": [
    "#softmax function\n",
    "def softmax(x):\n",
    "    return np.exp(x) / np.exp(x).sum(axis=0)"
   ]
  },
  {
   "cell_type": "markdown",
   "id": "09c95c8d-79da-45e0-b31e-e737dfb2b4f4",
   "metadata": {},
   "source": [
    "#forward propagation\n",
    "def forward_prop(X):\n",
    "    z1 = np.dot(X,Wxh) + bh\n",
    "    a1 = sigmoid(z1)\n",
    "    z2 = np.dot(a1,Why) + by\n",
    "    y_hat = sigmoid(z2)\n",
    "\n",
    "    return y_hat"
   ]
  },
  {
   "cell_type": "markdown",
   "id": "d23939c9-a2c2-4480-a105-153ec24fc993",
   "metadata": {},
   "source": [
    "#backward propagation\n",
    "def backword_prop(y_hat, z1, a1, z2):\n",
    "    delta2 = np.multiply(-(y-y_hat),sigmoid_derivative(z2))\n",
    "    dJ_dWhy = np.dot(a1.T, delta2)\n",
    "    \n",
    "    delta1 = np.dot(delta2,Why.T)*sigmoid_derivative(z1)\n",
    "    dJ_dWxh = np.dot(X.T, delta1)\n",
    "    \n",
    "    Wxh = Wxh - alpha * dJ_dWhy\n",
    "    Why = Why - alpha * dJ_dWxh\n",
    "    \n",
    "    return Wxh,Why\n"
   ]
  },
  {
   "cell_type": "markdown",
   "id": "64258db3-b002-4640-b95c-0caa794a1547",
   "metadata": {},
   "source": [
    "###### Building Neural Network From Scratch#######\n",
    "             XOR gate Operation"
   ]
  },
  {
   "cell_type": "code",
   "execution_count": 123,
   "id": "25883c45-008c-452f-892f-32c6b2276c41",
   "metadata": {},
   "outputs": [],
   "source": [
    "import numpy as np\n",
    "import matplotlib.pyplot as plt\n",
    "%matplotlib inline"
   ]
  },
  {
   "cell_type": "code",
   "execution_count": 125,
   "id": "bcdbbe2b-dc87-44be-8e4c-a7fd2959592f",
   "metadata": {},
   "outputs": [],
   "source": [
    "x = np.array([ [0, 1], [1, 0], [1, 1], [0, 0] ])\n",
    "y = np.array([ [1], [1], [0], [0] ])"
   ]
  },
  {
   "cell_type": "code",
   "execution_count": 127,
   "id": "fb7639b1-40bd-4ffc-b3cc-c46c0791f6e2",
   "metadata": {},
   "outputs": [],
   "source": [
    "#number of nodes\n",
    "num_input =2 \n",
    "num_hidden = 5\n",
    "num_output = 1"
   ]
  },
  {
   "cell_type": "code",
   "execution_count": 129,
   "id": "a6ecf554-84b7-4179-997c-37b0627c889a",
   "metadata": {},
   "outputs": [],
   "source": [
    "Wxh = np.random.randn(num_input,num_hidden)\n",
    "bh = np.zeros((1,num_hidden))"
   ]
  },
  {
   "cell_type": "code",
   "execution_count": 131,
   "id": "22e74d12-4d61-49ec-9afe-20a9577e2de7",
   "metadata": {},
   "outputs": [],
   "source": [
    "Why = np.random.randn(num_hidden,num_output)\n",
    "by = np.zeros((1,num_output))"
   ]
  },
  {
   "cell_type": "code",
   "execution_count": 133,
   "id": "b9bbae35-3eb0-432b-9bf1-130588f61c30",
   "metadata": {},
   "outputs": [],
   "source": [
    "#sigmoid function\n",
    "def sigmoid(z):\n",
    "    return 1 / (1+np.exp(-z))"
   ]
  },
  {
   "cell_type": "code",
   "execution_count": 135,
   "id": "5dd7e04e-e82e-4bad-b6bc-4edaa1e69168",
   "metadata": {},
   "outputs": [],
   "source": [
    "#derivative of sigmoid\n",
    "def sigmoid_derivative(z):\n",
    "    return np.exp(-z)/((1+np.exp(-z))**2)"
   ]
  },
  {
   "cell_type": "code",
   "execution_count": 137,
   "id": "add0993d-4813-4855-b1ee-b1b8761d3468",
   "metadata": {},
   "outputs": [],
   "source": [
    "#forward propagation\n",
    "def forward_prop(x,Wxh,Why):\n",
    "    z1 = np.dot(x,Wxh) + bh\n",
    "    a1 = sigmoid(z1)\n",
    "    z2 = np.dot(a1,Why) + by\n",
    "    y_hat = sigmoid(z2)\n",
    "    \n",
    "    return z1,a1,z2,y_hat"
   ]
  },
  {
   "cell_type": "code",
   "execution_count": 139,
   "id": "cfff0327-8c3b-4f8d-b32e-bd332d865cbf",
   "metadata": {},
   "outputs": [],
   "source": [
    "#backward propgation\n",
    "def backward_prop(y_hat, z1, a1, z2):\n",
    "    delta2 = np.multiply(-(y-y_hat),sigmoid_derivative(z2))\n",
    "    dJ_dWhy = np.dot(a1.T, delta2)\n",
    "    delta1 = np.dot(delta2,Why.T)*sigmoid_derivative(z1)\n",
    "    dJ_dWxh = np.dot(x.T, delta1) \n",
    "\n",
    "    return dJ_dWxh, dJ_dWhy"
   ]
  },
  {
   "cell_type": "code",
   "execution_count": 141,
   "id": "8f53a881-bba5-42cc-aaef-7d21060f48f6",
   "metadata": {},
   "outputs": [],
   "source": [
    "#cost function\n",
    "def cost_function(y, y_hat):\n",
    "    J = 0.5*sum((y-y_hat)**2)\n",
    "    \n",
    "    return J"
   ]
  },
  {
   "cell_type": "code",
   "execution_count": 143,
   "id": "5fee4bce-8ee3-4343-be8b-9aad72c20838",
   "metadata": {},
   "outputs": [],
   "source": [
    "#learning rate and no of training iterations\n",
    "alpha = 0.01\n",
    "num_iterations = 5000"
   ]
  },
  {
   "cell_type": "code",
   "execution_count": 145,
   "id": "6e30d394-237e-41a8-a87e-6c5281062495",
   "metadata": {},
   "outputs": [],
   "source": [
    "cost = []\n",
    "for i in range(num_iterations):\n",
    "\n",
    "    #forward propagation and backward propagation\n",
    "    z1,a1,z2,y_hat = forward_prop(x,Wxh,Why)\n",
    "    dJ_dWxh, dJ_dWhy = backward_prop(y_hat, z1, a1, z2)\n",
    "\n",
    "    #updating weights \n",
    "    Wxh = Wxh - alpha* dJ_dWxh\n",
    "    Why = Why - alpha * dJ_dWhy\n",
    "\n",
    "    #computing cost\n",
    "    c = cost_function(y, y_hat)\n",
    "\n",
    "    #storing cost in c\n",
    "    cost.append(c)"
   ]
  },
  {
   "cell_type": "code",
   "execution_count": 147,
   "id": "a9d69295-b1bb-41e4-8ef0-fb289389a846",
   "metadata": {},
   "outputs": [
    {
     "data": {
      "text/plain": [
       "Text(0, 0.5, 'Cost')"
      ]
     },
     "execution_count": 147,
     "metadata": {},
     "output_type": "execute_result"
    },
    {
     "data": {
      "image/png": "[encoded data removed]",
      "text/plain": [
       "<Figure size 640x480 with 1 Axes>"
      ]
     },
     "metadata": {},
     "output_type": "display_data"
    }
   ],
   "source": [
    "#plot cost function\n",
    "plt.grid()\n",
    "plt.plot(range(num_iterations),cost)\n",
    "\n",
    "plt.title('Cost Function')\n",
    "plt.xlabel('Training Iterations')\n",
    "plt.ylabel('Cost')"
   ]
  },
  {
   "cell_type": "code",
   "execution_count": null,
   "id": "6d13a7a8-f4d8-4ebc-b7ae-b72277c1eb63",
   "metadata": {},
   "outputs": [],
   "source": []
  },
  {
   "cell_type": "code",
   "execution_count": null,
   "id": "5c7d6aca-e560-482a-b590-6a2699b88772",
   "metadata": {},
   "outputs": [],
   "source": []
  }
 ],
 "metadata": {
  "kernelspec": {
   "display_name": "Python 3 (ipykernel)",
   "language": "python",
   "name": "python3"
  },
  "language_info": {
   "codemirror_mode": {
    "name": "ipython",
    "version": 3
   },
   "file_extension": ".py",
   "mimetype": "text/x-python",
   "name": "python",
   "nbconvert_exporter": "python",
   "pygments_lexer": "ipython3",
   "version": "3.12.4"
  }
 },
 "nbformat": 4,
 "nbformat_minor": 5
}
