{
 "cells": [
  {
   "cell_type": "markdown",
   "metadata": {},
   "source": [
    "## Predicting bitcoin with LSTM\n"
   ]
  },
  {
   "cell_type": "code",
   "execution_count": null,
   "metadata": {},
   "outputs": [
    {
     "name": "stdout",
     "output_type": "stream",
     "text": [
      "WARNING:tensorflow:From c:\\Users\\shubh\\Deep Learning lab\\env\\lib\\site-packages\\keras\\src\\losses.py:2976: The name tf.losses.sparse_softmax_cross_entropy is deprecated. Please use tf.compat.v1.losses.sparse_softmax_cross_entropy instead.\n",
      "\n",
      "WARNING:tensorflow:From C:\\Users\\shubh\\AppData\\Local\\Temp\\ipykernel_17448\\4122604259.py:14: The name tf.disable_eager_execution is deprecated. Please use tf.compat.v1.disable_eager_execution instead.\n",
      "\n"
     ]
    }
   ],
   "source": [
    "#import libraries\n",
    "\n",
    "import warnings \n",
    "warnings.filterwarnings('ignore')\n",
    "\n",
    "import numpy as np\n",
    "import pandas as pd\n",
    "from sklearn.preprocessing import StandardScaler\n",
    "\n",
    "import matplotlib.pyplot as plt\n",
    "%matplotlib inline\n",
    "\n",
    "import tensorflow as tf\n",
    "tf.compat.v1.disable_eager_execution()\n",
    "\n"
   ]
  },
  {
   "cell_type": "code",
   "execution_count": 3,
   "metadata": {},
   "outputs": [
    {
     "data": {
      "text/html": [
       "<div>\n",
       "<style scoped>\n",
       "    .dataframe tbody tr th:only-of-type {\n",
       "        vertical-align: middle;\n",
       "    }\n",
       "\n",
       "    .dataframe tbody tr th {\n",
       "        vertical-align: top;\n",
       "    }\n",
       "\n",
       "    .dataframe thead th {\n",
       "        text-align: right;\n",
       "    }\n",
       "</style>\n",
       "<table border=\"1\" class=\"dataframe\">\n",
       "  <thead>\n",
       "    <tr style=\"text-align: right;\">\n",
       "      <th></th>\n",
       "      <th>Date</th>\n",
       "      <th>Symbol</th>\n",
       "      <th>Open</th>\n",
       "      <th>High</th>\n",
       "      <th>Low</th>\n",
       "      <th>Close</th>\n",
       "      <th>Volume From</th>\n",
       "      <th>Volume To</th>\n",
       "    </tr>\n",
       "  </thead>\n",
       "  <tbody>\n",
       "    <tr>\n",
       "      <th>0</th>\n",
       "      <td>5/26/2018</td>\n",
       "      <td>BTCUSD</td>\n",
       "      <td>7459.11</td>\n",
       "      <td>7640.46</td>\n",
       "      <td>7380.00</td>\n",
       "      <td>7520.00</td>\n",
       "      <td>2722.80</td>\n",
       "      <td>2.042265e+07</td>\n",
       "    </tr>\n",
       "    <tr>\n",
       "      <th>1</th>\n",
       "      <td>5/25/2018</td>\n",
       "      <td>BTCUSD</td>\n",
       "      <td>7584.15</td>\n",
       "      <td>7661.85</td>\n",
       "      <td>7326.94</td>\n",
       "      <td>7459.11</td>\n",
       "      <td>8491.93</td>\n",
       "      <td>6.342069e+07</td>\n",
       "    </tr>\n",
       "    <tr>\n",
       "      <th>2</th>\n",
       "      <td>5/24/2018</td>\n",
       "      <td>BTCUSD</td>\n",
       "      <td>7505.00</td>\n",
       "      <td>7734.99</td>\n",
       "      <td>7269.00</td>\n",
       "      <td>7584.15</td>\n",
       "      <td>11033.72</td>\n",
       "      <td>8.293137e+07</td>\n",
       "    </tr>\n",
       "    <tr>\n",
       "      <th>3</th>\n",
       "      <td>5/23/2018</td>\n",
       "      <td>BTCUSD</td>\n",
       "      <td>7987.70</td>\n",
       "      <td>8030.00</td>\n",
       "      <td>7433.19</td>\n",
       "      <td>7505.00</td>\n",
       "      <td>14905.99</td>\n",
       "      <td>1.148104e+08</td>\n",
       "    </tr>\n",
       "    <tr>\n",
       "      <th>4</th>\n",
       "      <td>5/22/2018</td>\n",
       "      <td>BTCUSD</td>\n",
       "      <td>8393.44</td>\n",
       "      <td>8400.00</td>\n",
       "      <td>7950.00</td>\n",
       "      <td>7987.70</td>\n",
       "      <td>6589.43</td>\n",
       "      <td>5.389753e+07</td>\n",
       "    </tr>\n",
       "  </tbody>\n",
       "</table>\n",
       "</div>"
      ],
      "text/plain": [
       "        Date  Symbol     Open     High      Low    Close  Volume From  \\\n",
       "0  5/26/2018  BTCUSD  7459.11  7640.46  7380.00  7520.00      2722.80   \n",
       "1  5/25/2018  BTCUSD  7584.15  7661.85  7326.94  7459.11      8491.93   \n",
       "2  5/24/2018  BTCUSD  7505.00  7734.99  7269.00  7584.15     11033.72   \n",
       "3  5/23/2018  BTCUSD  7987.70  8030.00  7433.19  7505.00     14905.99   \n",
       "4  5/22/2018  BTCUSD  8393.44  8400.00  7950.00  7987.70      6589.43   \n",
       "\n",
       "      Volume To  \n",
       "0  2.042265e+07  \n",
       "1  6.342069e+07  \n",
       "2  8.293137e+07  \n",
       "3  1.148104e+08  \n",
       "4  5.389753e+07  "
      ]
     },
     "execution_count": 3,
     "metadata": {},
     "output_type": "execute_result"
    }
   ],
   "source": [
    "df = pd.read_csv('data/btc.csv')\n",
    "df.head()"
   ]
  },
  {
   "cell_type": "code",
   "execution_count": 4,
   "metadata": {},
   "outputs": [],
   "source": [
    "data =df['Close'].values"
   ]
  },
  {
   "cell_type": "code",
   "execution_count": 5,
   "metadata": {},
   "outputs": [],
   "source": [
    "scaler = StandardScaler()\n",
    "data = scaler.fit_transform(data.reshape(-1,1))"
   ]
  },
  {
   "cell_type": "code",
   "execution_count": 6,
   "metadata": {},
   "outputs": [
    {
     "data": {
      "image/png": "[encoded data removed]",
      "text/plain": [
       "<Figure size 640x480 with 1 Axes>"
      ]
     },
     "metadata": {},
     "output_type": "display_data"
    }
   ],
   "source": [
    "#plot \n",
    "plt.plot(data)\n",
    "plt.xlabel('Days')\n",
    "plt.ylabel('Price')\n",
    "plt.grid()"
   ]
  },
  {
   "cell_type": "code",
   "execution_count": 7,
   "metadata": {},
   "outputs": [],
   "source": [
    "def get_data(data, window_size):\n",
    "    X = []\n",
    "    y = []\n",
    "    \n",
    "    i = 0\n",
    "    \n",
    "    while (i + window_size) <= len(data) - 1:\n",
    "        X.append(data[i:i+window_size])\n",
    "        y.append(data[i+window_size])\n",
    "        \n",
    "        i += 1\n",
    "    assert len(X) ==  len(y)\n",
    "    return X, y"
   ]
  },
  {
   "cell_type": "code",
   "execution_count": 8,
   "metadata": {},
   "outputs": [],
   "source": [
    "X, y = get_data(data, window_size = 7)"
   ]
  },
  {
   "cell_type": "code",
   "execution_count": 9,
   "metadata": {},
   "outputs": [],
   "source": [
    "#train and test sets\n",
    "\n",
    "#train set\n",
    "X_train  = np.array(X[:1000])\n",
    "y_train = np.array(y[:1000])\n",
    "\n",
    "#test set\n",
    "X_test = np.array(X[1000:])\n",
    "y_test = np.array(y[1000:])"
   ]
  },
  {
   "cell_type": "code",
   "execution_count": 10,
   "metadata": {},
   "outputs": [
    {
     "data": {
      "text/plain": [
       "(1000, 7, 1)"
      ]
     },
     "execution_count": 10,
     "metadata": {},
     "output_type": "execute_result"
    }
   ],
   "source": [
    "X_train.shape"
   ]
  },
  {
   "cell_type": "code",
   "execution_count": 11,
   "metadata": {},
   "outputs": [],
   "source": [
    "#defining network parameters\n",
    "\n",
    "batch_size = 7\n",
    "window_size = 7 \n",
    "hidden_layer = 256 \n",
    "learning_rate = 0.001 "
   ]
  },
  {
   "cell_type": "code",
   "execution_count": 12,
   "metadata": {},
   "outputs": [],
   "source": [
    "#defining placeholders\n",
    "\n",
    "input = tf.compat.v1.placeholder(tf.float32, [batch_size, window_size, 1])\n",
    "target = tf.compat.v1.placeholder(tf.float32, [batch_size, 1])"
   ]
  },
  {
   "cell_type": "code",
   "execution_count": null,
   "metadata": {},
   "outputs": [],
   "source": [
    "#defining weights\n",
    "#input gate\n",
    "U_i = tf.compat.v1.Variable(tf.compat.v1.truncated_normal([1, hidden_layer], stddev=0.05))\n",
    "W_i = tf.compat.v1.Variable(tf.compat.v1.truncated_normal([hidden_layer, hidden_layer], stddev=0.05))\n",
    "b_i = tf.compat.v1.Variable(tf.zeros([hidden_layer]))"
   ]
  },
  {
   "cell_type": "code",
   "execution_count": 15,
   "metadata": {},
   "outputs": [],
   "source": [
    "#forget gate\n",
    "\n",
    "\n",
    "U_f = tf.compat.v1.Variable(tf.compat.v1.truncated_normal([1, hidden_layer], stddev=0.05))\n",
    "W_f = tf.compat.v1.Variable(tf.compat.v1.truncated_normal([hidden_layer, hidden_layer], stddev=0.05))\n",
    "b_f = tf.compat.v1.Variable(tf.zeros([hidden_layer]))\n"
   ]
  },
  {
   "cell_type": "code",
   "execution_count": 16,
   "metadata": {},
   "outputs": [],
   "source": [
    "#output gate\n",
    "\n",
    "\n",
    "U_o = tf.compat.v1.Variable(tf.compat.v1.truncated_normal([1, hidden_layer], stddev=0.05))\n",
    "W_o = tf.compat.v1.Variable(tf.compat.v1.truncated_normal([hidden_layer, hidden_layer], stddev=0.05))\n",
    "b_o = tf.compat.v1.Variable(tf.zeros([hidden_layer]))"
   ]
  },
  {
   "cell_type": "code",
   "execution_count": 17,
   "metadata": {},
   "outputs": [],
   "source": [
    "#weights of candidate states\n",
    "\n",
    "U_g = tf.compat.v1.Variable(tf.compat.v1.truncated_normal([1, hidden_layer], stddev=0.05))\n",
    "W_g = tf.compat.v1.Variable(tf.compat.v1.truncated_normal([hidden_layer, hidden_layer], stddev=0.05))\n",
    "b_g = tf.compat.v1.Variable(tf.zeros([hidden_layer]))\n"
   ]
  },
  {
   "cell_type": "code",
   "execution_count": 18,
   "metadata": {},
   "outputs": [],
   "source": [
    "#output layer weight\n",
    "V = tf.compat.v1.Variable(tf.compat.v1.truncated_normal([hidden_layer, 1], stddev=0.05))\n",
    "b_v = tf.compat.v1.Variable(tf.zeros([1]))\n"
   ]
  },
  {
   "cell_type": "code",
   "execution_count": 19,
   "metadata": {},
   "outputs": [],
   "source": [
    "#LSTM cell\n",
    "\n",
    "def LSTM_cell(input, prev_hidden_state, prev_cell_state):\n",
    "\n",
    "\n",
    "    it = tf.sigmoid(tf.matmul(input, U_i) + tf.matmul(prev_hidden_state, W_i) + b_i)\n",
    "    ft = tf.sigmoid(tf.matmul(input, U_f) + tf.matmul(prev_hidden_state, W_f) + b_f)\n",
    "    ot = tf.sigmoid(tf.matmul(input, U_o) + tf.matmul(prev_hidden_state, W_o) + b_o)\n",
    "    gt = tf.tanh(tf.matmul(input, U_g) + tf.matmul(prev_hidden_state, W_g) + b_g)\n",
    "    ct = (prev_cell_state * ft) + (it * gt)\n",
    "    ht = ot * tf.tanh(ct)\n",
    "\n",
    "    return ct, ht"
   ]
  },
  {
   "cell_type": "code",
   "execution_count": 20,
   "metadata": {},
   "outputs": [],
   "source": [
    "#defining forward propagation\n",
    "\n",
    "#initialize the list called y_hat for storing the predicted output\n",
    "y_hat = []\n",
    "\n",
    "#for each batch we compute the output and store it in the y_hat list\n",
    "for i in range(batch_size): \n",
    "  \n",
    "    #initialize hidden state and cell state for each batch\n",
    "    hidden_state = np.zeros([1, hidden_layer], dtype=np.float32) \n",
    "    cell_state = np.zeros([1, hidden_layer], dtype=np.float32)\n",
    "    \n",
    "    \n",
    "    #compute the hidden state and cell state of the LSTM cell for each time step\n",
    "    for t in range(window_size):\n",
    "        cell_state, hidden_state = LSTM_cell(tf.reshape(input[i][t], (-1, 1)), hidden_state, cell_state)\n",
    "        \n",
    "    #compute y_hat and append it to y_hat list\n",
    "    y_hat.append(tf.matmul(hidden_state, V) + b_v)\n"
   ]
  },
  {
   "cell_type": "code",
   "execution_count": 22,
   "metadata": {},
   "outputs": [],
   "source": [
    "#Defining backpropagation\n",
    "losses = []\n",
    "\n",
    "for i in range(len(y_hat)):\n",
    "    losses.append(tf.compat.v1.losses.mean_squared_error(tf.reshape(target[i], (-1, 1)), y_hat[i]))\n",
    "    \n",
    "loss = tf.reduce_mean(losses)\n"
   ]
  },
  {
   "cell_type": "code",
   "execution_count": 24,
   "metadata": {},
   "outputs": [],
   "source": [
    "gradients = tf.gradients(loss, tf.compat.v1.trainable_variables())\n",
    "clipped, _ = tf.clip_by_global_norm(gradients, 4.0)"
   ]
  },
  {
   "cell_type": "code",
   "execution_count": 27,
   "metadata": {},
   "outputs": [],
   "source": [
    "optimizer = tf.compat.v1.train.AdamOptimizer(learning_rate).apply_gradients(zip(gradients, tf.compat.v1.trainable_variables()))\n"
   ]
  },
  {
   "cell_type": "code",
   "execution_count": 29,
   "metadata": {},
   "outputs": [],
   "source": [
    "#training the lstm model\n",
    "session = tf.compat.v1.Session()\n",
    "session.run(tf.compat.v1.global_variables_initializer())\n"
   ]
  },
  {
   "cell_type": "code",
   "execution_count": 30,
   "metadata": {},
   "outputs": [],
   "source": [
    "epochs = 100"
   ]
  },
  {
   "cell_type": "code",
   "execution_count": 34,
   "metadata": {},
   "outputs": [
    {
     "name": "stdout",
     "output_type": "stream",
     "text": [
      "Epoch 0, Loss: 0.19160188734531403 \n",
      "Epoch 10, Loss: 0.04048078879714012 \n",
      "Epoch 20, Loss: 0.02398882806301117 \n",
      "Epoch 30, Loss: 0.019006701186299324 \n",
      "Epoch 40, Loss: 0.010632812976837158 \n",
      "Epoch 50, Loss: 0.014990714378654957 \n",
      "Epoch 60, Loss: 0.00905490480363369 \n",
      "Epoch 70, Loss: 0.00885548535734415 \n",
      "Epoch 80, Loss: 0.008137242868542671 \n",
      "Epoch 90, Loss: 0.007176835555583239 \n"
     ]
    }
   ],
   "source": [
    "for i in range(epochs):\n",
    "    train_predictions = []\n",
    "    index = 0\n",
    "    epoch_loss = []\n",
    "    \n",
    "    #Sample some batche of data and train the network\n",
    "    while(index + batch_size) <= len(X_train):\n",
    "        \n",
    "        #sample batch of data\n",
    "        X_batch = X_train[index:index+batch_size]\n",
    "        y_batch = y_train[index:index+batch_size]\n",
    "        \n",
    "        #predict the prices and compute loss\n",
    "        predicted, loss_val, _ = session.run([y_hat, loss, optimizer], feed_dict={input:X_batch, target:y_batch})\n",
    "        \n",
    "        #store the loss\n",
    "        epoch_loss.append(loss_val)\n",
    "        \n",
    "        #store the predictions\n",
    "        train_predictions.append(predicted)\n",
    "        index += batch_size\n",
    "        \n",
    "        \n",
    "    #print the loss on every 10 iterations\n",
    "    if (i % 10)== 0:\n",
    "        print('Epoch {}, Loss: {} '.format(i,np.mean(epoch_loss)))"
   ]
  },
  {
   "cell_type": "code",
   "execution_count": 35,
   "metadata": {},
   "outputs": [],
   "source": [
    "#making predictions using the LSTM model"
   ]
  },
  {
   "cell_type": "code",
   "execution_count": 36,
   "metadata": {},
   "outputs": [],
   "source": [
    "\n",
    "predicted_output = []\n",
    "i = 0\n",
    "while i+batch_size <= len(X_test): \n",
    "  \n",
    "    output = session.run([y_hat],feed_dict={input:X_test[i:i+batch_size]})\n",
    "    i += batch_size\n",
    "    predicted_output.append(output)"
   ]
  },
  {
   "cell_type": "code",
   "execution_count": 37,
   "metadata": {},
   "outputs": [
    {
     "data": {
      "text/plain": [
       "[[array([[-0.6039788]], dtype=float32),\n",
       "  array([[-0.60177356]], dtype=float32),\n",
       "  array([[-0.60092986]], dtype=float32),\n",
       "  array([[-0.5995633]], dtype=float32),\n",
       "  array([[-0.59913456]], dtype=float32),\n",
       "  array([[-0.600502]], dtype=float32),\n",
       "  array([[-0.5972058]], dtype=float32)]]"
      ]
     },
     "execution_count": 37,
     "metadata": {},
     "output_type": "execute_result"
    }
   ],
   "source": [
    "predicted_output[0]"
   ]
  },
  {
   "cell_type": "code",
   "execution_count": 38,
   "metadata": {},
   "outputs": [],
   "source": [
    "\n",
    "predicted_values_test = []\n",
    "for i in range(len(predicted_output)):\n",
    "  for j in range(len(predicted_output[i][0])):\n",
    "    predicted_values_test.append(predicted_output[i][0][j])"
   ]
  },
  {
   "cell_type": "code",
   "execution_count": 39,
   "metadata": {},
   "outputs": [
    {
     "data": {
      "text/plain": [
       "array([[-0.6039788]], dtype=float32)"
      ]
     },
     "execution_count": 39,
     "metadata": {},
     "output_type": "execute_result"
    }
   ],
   "source": [
    "predicted_values_test[0]"
   ]
  },
  {
   "cell_type": "code",
   "execution_count": 40,
   "metadata": {},
   "outputs": [],
   "source": [
    "predictions = []\n",
    "for i in range(1280):\n",
    "      if i >= 1000:\n",
    "        predictions.append(predicted_values_test[i-1019])\n",
    "      else:\n",
    "        predictions.append(None)"
   ]
  },
  {
   "cell_type": "code",
   "execution_count": 44,
   "metadata": {},
   "outputs": [
    {
     "ename": "ValueError",
     "evalue": "setting an array element with a sequence. The requested array has an inhomogeneous shape after 1 dimensions. The detected shape was (1280,) + inhomogeneous part.",
     "output_type": "error",
     "traceback": [
      "\u001b[1;31m---------------------------------------------------------------------------\u001b[0m",
      "\u001b[1;31mValueError\u001b[0m                                Traceback (most recent call last)",
      "Cell \u001b[1;32mIn[44], line 3\u001b[0m\n\u001b[0;32m      1\u001b[0m plt\u001b[38;5;241m.\u001b[39mfigure(figsize\u001b[38;5;241m=\u001b[39m(\u001b[38;5;241m16\u001b[39m, \u001b[38;5;241m7\u001b[39m))\n\u001b[0;32m      2\u001b[0m plt\u001b[38;5;241m.\u001b[39mplot(np\u001b[38;5;241m.\u001b[39marray(data)\u001b[38;5;241m.\u001b[39mflatten(), label\u001b[38;5;241m=\u001b[39m\u001b[38;5;124m'\u001b[39m\u001b[38;5;124mActual\u001b[39m\u001b[38;5;124m'\u001b[39m)\n\u001b[1;32m----> 3\u001b[0m plt\u001b[38;5;241m.\u001b[39mplot(\u001b[43mnp\u001b[49m\u001b[38;5;241;43m.\u001b[39;49m\u001b[43marray\u001b[49m\u001b[43m(\u001b[49m\u001b[43mpredictions\u001b[49m\u001b[43m)\u001b[49m\u001b[38;5;241m.\u001b[39mflatten(), label\u001b[38;5;241m=\u001b[39m\u001b[38;5;124m'\u001b[39m\u001b[38;5;124mPredicted\u001b[39m\u001b[38;5;124m'\u001b[39m)\n\u001b[0;32m      4\u001b[0m plt\u001b[38;5;241m.\u001b[39mlegend()\n\u001b[0;32m      5\u001b[0m plt\u001b[38;5;241m.\u001b[39mxlabel(\u001b[38;5;124m'\u001b[39m\u001b[38;5;124mDays\u001b[39m\u001b[38;5;124m'\u001b[39m)\n",
      "\u001b[1;31mValueError\u001b[0m: setting an array element with a sequence. The requested array has an inhomogeneous shape after 1 dimensions. The detected shape was (1280,) + inhomogeneous part."
     ]
    },
    {
     "data": {
      "image/png": "[encoded data removed]",
      "text/plain": [
       "<Figure size 1600x700 with 1 Axes>"
      ]
     },
     "metadata": {},
     "output_type": "display_data"
    }
   ],
   "source": [
    "\n",
    "plt.figure(figsize=(16, 7))\n",
    "plt.plot(np.array(data).flatten(), label='Actual')\n",
    "plt.plot(np.array(predictions).flatten(), label='Predicted')\n",
    "plt.legend()\n",
    "plt.xlabel('Days')\n",
    "plt.ylabel('Price')\n",
    "plt.grid()\n",
    "plt.show()"
   ]
  }
 ],
 "metadata": {
  "kernelspec": {
   "display_name": "env",
   "language": "python",
   "name": "python3"
  },
  "language_info": {
   "codemirror_mode": {
    "name": "ipython",
    "version": 3
   },
   "file_extension": ".py",
   "mimetype": "text/x-python",
   "name": "python",
   "nbconvert_exporter": "python",
   "pygments_lexer": "ipython3",
   "version": "3.10.5"
  }
 },
 "nbformat": 4,
 "nbformat_minor": 2
}
